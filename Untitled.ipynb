{
 "cells": [
  {
   "cell_type": "code",
   "execution_count": 2,
   "id": "8eab4b93",
   "metadata": {},
   "outputs": [
    {
     "name": "stdout",
     "output_type": "stream",
     "text": [
      "Berlin, May 1954, Checkpoint Charly.\n",
      "The tension between Americans and Soviets are at his highest.\n",
      "The representatives of each country disagree on whether we say 'Chocolatine' or 'Pain au chocolat'.\n",
      "The two sides seem irreconcilable.\n",
      "Of course, everybody knows that those who says 'Chocolatine' have an extra 21-chromosome.\n",
      "However, the correct answer is 'Who gives a shit'."
     ]
    }
   ],
   "source": [
    "import time\n",
    "import sys\n",
    "blah = \"\"\"Berlin, May 1954, Checkpoint Charly.\n",
    "The tension between Americans and Soviets are at his highest.\n",
    "The representatives of each country disagree on whether we say 'Chocolatine' or 'Pain au chocolat'.\n",
    "The two sides seem irreconcilable.\n",
    "Of course, everybody knows that those who says 'Chocolatine' have an extra 21-chromosome.\n",
    "However, the correct answer is 'Who gives a shit'.\"\"\"\n",
    "def print_slow(text)\n",
    "    for i in blah:\n",
    "        sys.stdout.write(i)\n",
    "        sys.stdout.flush()\n",
    "        time.sleep(0.01)"
   ]
  },
  {
   "cell_type": "code",
   "execution_count": null,
   "id": "591d750b",
   "metadata": {},
   "outputs": [],
   "source": []
  }
 ],
 "metadata": {
  "kernelspec": {
   "display_name": "Python 3 (ipykernel)",
   "language": "python",
   "name": "python3"
  },
  "language_info": {
   "codemirror_mode": {
    "name": "ipython",
    "version": 3
   },
   "file_extension": ".py",
   "mimetype": "text/x-python",
   "name": "python",
   "nbconvert_exporter": "python",
   "pygments_lexer": "ipython3",
   "version": "3.9.13"
  }
 },
 "nbformat": 4,
 "nbformat_minor": 5
}
